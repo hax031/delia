{
 "cells": [
  {
   "cell_type": "code",
   "execution_count": 1,
   "metadata": {},
   "outputs": [
    {
     "name": "stderr",
     "output_type": "stream",
     "text": [
      "Using TensorFlow backend.\n"
     ]
    }
   ],
   "source": [
    "import os\n",
    "import pandas as pd\n",
    "import numpy as np\n",
    "import matplotlib.pyplot as plt\n",
    "import seaborn as sns\n",
    "from datetime import datetime\n",
    "from pandas import DataFrame\n",
    "from pandas import concat\n",
    "from sklearn.preprocessing import MinMaxScaler\n",
    "from keras.models import Sequential\n",
    "from keras.layers import Dense\n",
    "from keras.layers import LSTM\n",
    "from keras.layers import Dropout\n",
    "from keras.layers import Flatten\n",
    "from sklearn.metrics import mean_squared_error\n",
    "from keras.callbacks import EarlyStopping, ModelCheckpoint\n",
    "from keras.models import load_model\n",
    "import math  "
   ]
  },
  {
   "cell_type": "code",
   "execution_count": 35,
   "metadata": {},
   "outputs": [],
   "source": [
    "# frame a sequence as a supervised learning problem\n",
    "def timeseries_to_supervised(sqs, lag):\n",
    "    cols, names = list(), list()\n",
    "    #F = sqs.drop(columns={\"date\"}, axis=1)\n",
    "    F = sqs\n",
    "    columns = F.columns\n",
    "    n_var = F.shape[1]\n",
    "    for i in range(lag, 0, -1):\n",
    "        cols.append(F.shift(i))\n",
    "        names +=([(columns[j]+'_t-%d' % i) for j in range(n_var)])\n",
    "    cols.append(F)\n",
    "    names += F.columns.tolist()\n",
    "    reframed = concat(cols, axis=1)\n",
    "    reframed.columns = names\n",
    "    reframed = reframed.drop(reframed.columns[[0,4,8,12,-1,-2]], axis=1)\n",
    "    return reframed"
   ]
  },
  {
   "cell_type": "code",
   "execution_count": 6,
   "metadata": {},
   "outputs": [],
   "source": [
    "#scale the data into the desirable range\n",
    "def scale(train, test):\n",
    "    # fit scaler\n",
    "    scaler = MinMaxScaler(feature_range=(0, 1))\n",
    "    scaler = scaler.fit(train)\n",
    "    # transform train\n",
    "    train_scaled = scaler.transform(train)\n",
    "    # transform test\n",
    "    test_scaled = scaler.transform(test)\n",
    "    return scaler, train_scaled, test_scaled"
   ]
  },
  {
   "cell_type": "code",
   "execution_count": 7,
   "metadata": {},
   "outputs": [],
   "source": [
    "# inverse scaling for a forecasted value\n",
    "def invert_scale(scaler, test_X, yhat):\n",
    "    predictions = list()\n",
    "    for i in range(len(yhat)):\n",
    "        y = yhat[i]\n",
    "        X = test_X[i, :]\n",
    "        new_row = [x for x in X] + [y]\n",
    "        array = np.array(new_row)\n",
    "        array = array.reshape(1, len(array))\n",
    "        inverted = scaler.inverse_transform(array)\n",
    "        y =inverted[0, -1]\n",
    "        predictions.append(y)\n",
    "    return predictions"
   ]
  },
  {
   "cell_type": "code",
   "execution_count": 8,
   "metadata": {},
   "outputs": [],
   "source": [
    "# build the lstm model\n",
    "def fit_lstm(frequency, train,time_step, batch_size, neurons):\n",
    "    mean_loss = 0\n",
    "    #generate training and validation dataset.\n",
    "    x_train, y_train = train[:-3*frequency, 3*(frequency-time_step):-1], train[:-3*frequency, -1]\n",
    "    x_train = x_train.reshape(x_train.shape[0], time_step, 3)\n",
    "    x_val, y_val = train[-3*frequency:, 3*(frequency-time_step):-1], train[-3*frequency:, -1]\n",
    "    x_val = x_val.reshape(x_val.shape[0], time_step, 3)\n",
    "    model = Sequential()\n",
    "    model.add(LSTM(units = neurons, batch_input_shape=(batch_size, time_step, 3), \n",
    "                   stateful=True, return_sequences = True))\n",
    "    model.add(LSTM(units = neurons, return_sequences = False))\n",
    "    model.add(Dense(units = 1))\n",
    "    model.compile(loss='mean_squared_error', optimizer='adam')\n",
    "    for i in range(30):\n",
    "        history = model.fit(x_train, y_train, epochs=100, batch_size=batch_size, verbose=0, \n",
    "                        shuffle=False, validation_data = (x_val, y_val))\n",
    "        model.reset_states()\n",
    "        mean_loss += min(history.history['val_loss'])\n",
    "    return mean_loss/30"
   ]
  },
  {
   "cell_type": "code",
   "execution_count": 9,
   "metadata": {},
   "outputs": [],
   "source": [
    "def evaluate_lstm(frequecy, train,test,time_step, batch_size, neurons):\n",
    "    loss_val = np.zeros(30)\n",
    "    pred_array =[]\n",
    "    x_train, y_train = train[:-3*frequency, 3*(frequency-time_step):-1], train[:-3*frequency, -1]\n",
    "    x_train = x_train.reshape(x_train.shape[0], time_step, 3)\n",
    "    x_val, y_val = train[-3*frequency:, 3*(frequency-time_step):-1], train[-3*frequency:, -1]\n",
    "    x_val = x_val.reshape(x_val.shape[0], time_step, 3)\n",
    "    test_X, test_y = test[:, 3*(frequency-time_step):-1], test[:, -1]\n",
    "    test_X = test_X.reshape(test_X.shape[0], time_step, 3)\n",
    "    model = Sequential()\n",
    "    model.add(LSTM(units = neurons, batch_input_shape=(batch_size, time_step, 3), \n",
    "                   stateful=True, return_sequences = True))\n",
    "    model.add(LSTM(units = neurons, return_sequences = False))\n",
    "    model.add(Dense(units = 1))\n",
    "    model.compile(loss='mean_squared_error', optimizer='adam')\n",
    "    # patient early stopping\n",
    "    es = EarlyStopping(monitor='val_loss', mode='min', verbose=1, patience=250)\n",
    "    mc = ModelCheckpoint('best_model.h5', monitor='val_loss', mode='min', save_best_only=True)\n",
    "    for i in range(30):\n",
    "        history = model.fit(x_train, y_train, epochs=100, batch_size=batch_size, verbose=0, \n",
    "                        callbacks=[es,mc],shuffle=False, validation_data = (x_val, y_val))\n",
    "\n",
    "        # load the saved model\n",
    "        saved_model = load_model('best_model.h5')\n",
    "        loss_val[i] = saved_model.evaluate(test_X,test_y,batch_size,verbose = 0)\n",
    "        pred = saved_model.predict(test_X, batch_size,verbose = 0)\n",
    "        pred = pred.reshape(1, len(pred))\n",
    "        pred_array.append(pred)\n",
    "    #get the index that has the minimum loss\n",
    "    idx = np.argmin(loss_val)\n",
    "#     plt.plot(history.history['loss'])\n",
    "#     plt.plot(history.history['val_loss'])\n",
    "#     plt.title('model train vs validation loss')\n",
    "#     plt.ylabel('loss')\n",
    "#     plt.xlabel('epoch')\n",
    "#     plt.legend(['train', 'validation'], loc='upper right')\n",
    "#     plt.show()\n",
    "#     mean_loss += min(history.history['val_loss'])\n",
    "    return (loss_val[idx],pred_array[idx])"
   ]
  },
  {
   "cell_type": "markdown",
   "metadata": {},
   "source": [
    "# RNN model"
   ]
  },
  {
   "cell_type": "code",
   "execution_count": 12,
   "metadata": {},
   "outputs": [],
   "source": [
    "def run_lstm(Q, n_neuron, time_step):\n",
    "    # start with the quarterly data\n",
    "    Qd = timeseries_to_supervised(Q, 4)\n",
    "    #drop(columns={\"date\"}, axis=1)\n",
    "    train= Qd[(Q['date'] > '1997-01-01') & (Q['date'] < '2016-01-01')].drop(columns={\"date\"}, axis=1).values\n",
    "    test = Qd[(Q['date'] > '2016-01-01') & (Q['date'] < '2019-01-01')].drop(columns={\"date\"}, axis=1).values\n",
    "    batch_size = 4\n",
    "    scaler, train_scaled, test_scaled = scale(train, test)\n",
    "    if n_neuron == 0:\n",
    "        #i represent the values for neurons, \n",
    "        #j represent the values for time_step\n",
    "        lstm_model = np.zeros((13,4))\n",
    "        for i in range(1,14):\n",
    "            for j in range(1,5):\n",
    "                lstm_model[i-1,j-1] = fit_lstm(train_scaled,j, batch_size, i)\n",
    "        (n_neuron, time_step)=np.unravel_index(np.argmin(lstm_model, axis=None), lstm_model.shape)\n",
    "        n_neuron +=1\n",
    "        time_step+=1\n",
    "    # evaluate the lstm\n",
    "    frequecy = 4\n",
    "    (loss, PA) = evaluate_lstm(frequency,train_scaled,test_scaled,time_step, batch_size, n_neuron)\n",
    "    test_X = test[:, 0:-1]\n",
    "    PA_inverse = invert_scale(scaler, test_X, PA[0])\n",
    "    #evaluate the model using test set.\n",
    "    plt.plot(test[:,-1], color='blue', label='Actual number of patents')\n",
    "    plt.plot(PA_inverse , color='red', label='Predicted number of patents')\n",
    "    plt.xlabel('Date')\n",
    "    plt.ylabel('Number of Patents')\n",
    "    plt.legend()\n",
    "    plt.show()\n",
    "    return PA_inverse\n"
   ]
  },
  {
   "cell_type": "markdown",
   "metadata": {},
   "source": [
    "## monthly data "
   ]
  },
  {
   "cell_type": "code",
   "execution_count": 49,
   "metadata": {},
   "outputs": [
    {
     "name": "stdout",
     "output_type": "stream",
     "text": [
      "0.12449128147628573\n",
      "3\n"
     ]
    }
   ],
   "source": [
    "#based on the quartelry data, we can conclude that the number of hidden layer is good to be 6, then we just for loop on timeseries\n",
    "# lstm_model = np.zeros(12)\n",
    "# frequency = 12\n",
    "# for j in range(1,13):\n",
    "#     lstm_model[j-1] = fit_lstm(frequency,train_scaled,j, batch_size, 6)\n",
    "# for the monthly data, the best model has time_step = 3\n",
    "# print(min(lstm_model))\n",
    "# print(lstm_model.argmin()+1)"
   ]
  },
  {
   "cell_type": "code",
   "execution_count": 55,
   "metadata": {},
   "outputs": [
    {
     "data": {
      "image/png": "[encoded data removed]",
      "text/plain": [
       "<Figure size 432x288 with 1 Axes>"
      ]
     },
     "metadata": {
      "needs_background": "light"
     },
     "output_type": "display_data"
    }
   ],
   "source": [
    "# for monthly data\n",
    "# n_neuron = 6\n",
    "# time_step = lstm_model.argmin()+1\n",
    "# frequecy = 12\n",
    "# (loss, PA) = evaluate_lstm(frequency,train_scaled,test_scaled,time_step, batch_size, n_neuron)\n",
    "# test_X = test[:, 0:-1]\n",
    "# PA_inverse = invert_scale(scaler, test_X, PA[0])\n",
    "# #evaluate the model using test set.\n",
    "# plt.plot(test[:,-1], color='blue', label='Actual number of patents')\n",
    "# plt.plot(PA_inverse , color='red', label='Predicted number of patents')\n",
    "# plt.xlabel('Date')\n",
    "# plt.ylabel('Number of Patents')\n",
    "# plt.legend()\n",
    "# plt.show()"
   ]
  },
  {
   "cell_type": "code",
   "execution_count": 58,
   "metadata": {
    "collapsed": true
   },
   "outputs": [
    {
     "name": "stdout",
     "output_type": "stream",
     "text": [
      "OSR2:  0.6334466008297961\n",
      "MAE:  6.085258161028226\n",
      "RMSE:  7.660425247996444\n"
     ]
    }
   ],
   "source": [
    "# SSE = ((test[:,-1]-PA_inverse)**2).sum()\n",
    "# SSR = ((test[:,-1]-np.mean(train[:,-1]))**2).sum()\n",
    "# OSR2 = 1-SSE/SSR\n",
    "# RMSE = math.sqrt(np.mean((test[:,-1]-PA_inverse)**2))\n",
    "# MAE = np.mean(abs((test[:,-1]-PA_inverse)))\n",
    "# print(\"OSR2: \", OSR2)\n",
    "# print(\"MAE: \", MAE)\n",
    "# print(\"RMSE: \", RMSE)"
   ]
  }
 ],
 "metadata": {
  "kernelspec": {
   "display_name": "Python 3",
   "language": "python",
   "name": "python3"
  },
  "language_info": {
   "codemirror_mode": {
    "name": "ipython",
    "version": 3
   },
   "file_extension": ".py",
   "mimetype": "text/x-python",
   "name": "python",
   "nbconvert_exporter": "python",
   "pygments_lexer": "ipython3",
   "version": "3.7.6"
  }
 },
 "nbformat": 4,
 "nbformat_minor": 2
}
