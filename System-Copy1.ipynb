{
 "cells": [
  {
   "cell_type": "code",
   "execution_count": 1,
   "metadata": {},
   "outputs": [],
   "source": [
    "import os\n",
    "import pandas as pd\n",
    "import numpy as np\n",
    "import matplotlib.pyplot as plt\n",
    "import seaborn as sns\n",
    "from datetime import datetime\n",
    "from pandas import DataFrame\n",
    "from pandas import concat\n",
    "from sklearn.preprocessing import MinMaxScaler\n",
    "# from tensorflow.keras.models import Sequential\n",
    "# from tensorflow.keras.layers import Dense\n",
    "# from tensorflow.keras.layers import CuDNNLSTM \n",
    "# from tensorflow.keras.layers import Dropout\n",
    "# from tensorflow.keras.layers import Flatten\n",
    "from sklearn.metrics import mean_squared_error\n",
    "# from tensorflow.keras.callbacks import EarlyStopping, ModelCheckpoint\n",
    "# from tensorflow.keras.models import load_model\n",
    "import math  \n",
    "# import concurrent.futures"
   ]
  },
  {
   "cell_type": "code",
   "execution_count": 2,
   "metadata": {},
   "outputs": [],
   "source": [
    "#add the feature into the input data\n",
    "def addFeature(feature, M):\n",
    "    feature['year'] = pd.DatetimeIndex(feature['grantdate']).year\n",
    "    feature['month'] = pd.DatetimeIndex(feature['grantdate']).month\n",
    "    F = feature.groupby(['year','month']).size().reset_index()\n",
    "    ## rename the name for citation column\n",
    "    F = F.rename(columns = {0:\"Citation\"})\n",
    "    M = pd.merge(M, F[['year','month','Citation']],\n",
    "                on=['year','month'], how='left')\n",
    "    M =M.fillna(0)\n",
    "    \n",
    "    return M"
   ]
  },
  {
   "cell_type": "code",
   "execution_count": 43,
   "metadata": {},
   "outputs": [],
   "source": [
    "#generate the monthly input data\n",
    "def monthly_data (subclass_data, feature):\n",
    "    Mdf = subclass_data.groupby(['year','month'])\n",
    "    C = Mdf.size().to_frame(name = 'count').reset_index()\n",
    "    I = Mdf.sum().reset_index()\n",
    "    pt = pd.date_range(start='1/1/1987', end = '12/31/2018', freq='M')\n",
    "    pt_Y = pd.DatetimeIndex(pt).year\n",
    "    pt_M = pd.DatetimeIndex(pt).month\n",
    "    # create monthly data file\n",
    "    M = pd.DataFrame(data = {'year':pt_Y, 'date':pt,'month':pt_M})\n",
    "    M = pd.merge(M, C[['year','month','count']],\n",
    "                    on=['year','month'], how='left')\n",
    "    M = pd.merge(M, I[['year','month','Inventor']],\n",
    "                    on=['year','month'], how='left')\n",
    "    M = pd.merge(M, feature[['year','month','Citation']],\n",
    "                    on=['year','month'], how='left')\n",
    "    M =M.fillna(0)\n",
    "    M = M.drop(columns=['year','month'])\n",
    "    return M"
   ]
  },
  {
   "cell_type": "code",
   "execution_count": 27,
   "metadata": {},
   "outputs": [],
   "source": [
    "#this function is used to generate an input data for a specific subclass\n",
    "#the parameter is the subclass CPC, and the complete data file raw_data\n",
    "#return the monthly and quarterly dataframe for subclass\n",
    "\n",
    "def Raw2Input (CPC, raw_data, feature):\n",
    "    # df is subclass data\n",
    "    CPC = CPC.replace(' (20130101)',' \\(20130101\\)')\n",
    "    df = raw_data[raw_data[\"CPC\"].str.contains(CPC, na=False)]\n",
    "    CPC = CPC.replace(' \\(20130101\\)','')\n",
    "    citation = feature[feature[\"CPC\"].str.contains(CPC, na=False)]\n",
    "    #create data variable\n",
    "    df['year'] = pd.DatetimeIndex(df['Appli-date']).year\n",
    "    df['month'] = pd.DatetimeIndex(df['Appli-date']).month\n",
    "    M = monthly_data(df, citation)\n",
    "    Q = M.resample('Q', on = 'date').sum()\n",
    "    Q = Q.reset_index()\n",
    "    return (M,Q)"
   ]
  },
  {
   "cell_type": "code",
   "execution_count": 26,
   "metadata": {},
   "outputs": [
    {
     "name": "stderr",
     "output_type": "stream",
     "text": [
      "c:\\users\\delia\\appdata\\local\\programs\\python\\python37\\lib\\site-packages\\ipykernel_launcher.py:9: SettingWithCopyWarning: \n",
      "A value is trying to be set on a copy of a slice from a DataFrame.\n",
      "Try using .loc[row_indexer,col_indexer] = value instead\n",
      "\n",
      "See the caveats in the documentation: http://pandas.pydata.org/pandas-docs/stable/user_guide/indexing.html#returning-a-view-versus-a-copy\n",
      "  if __name__ == '__main__':\n",
      "c:\\users\\delia\\appdata\\local\\programs\\python\\python37\\lib\\site-packages\\ipykernel_launcher.py:10: SettingWithCopyWarning: \n",
      "A value is trying to be set on a copy of a slice from a DataFrame.\n",
      "Try using .loc[row_indexer,col_indexer] = value instead\n",
      "\n",
      "See the caveats in the documentation: http://pandas.pydata.org/pandas-docs/stable/user_guide/indexing.html#returning-a-view-versus-a-copy\n",
      "  # Remove the CWD from sys.path while we load stuff.\n"
     ]
    },
    {
     "name": "stdout",
     "output_type": "stream",
     "text": [
      "        date  count  Inventor  Citation\n",
      "0 1987-01-31    1.0       1.0       0.0\n",
      "1 1987-02-28    0.0       0.0       1.0\n",
      "2 1987-03-31    0.0       0.0       0.0\n",
      "3 1987-04-30    1.0       1.0       0.0\n",
      "4 1987-05-31    0.0       0.0       0.0\n",
      "\n",
      "        date  count  Inventor  Citation\n",
      "0 1987-03-31    1.0       1.0       1.0\n",
      "1 1987-06-30    1.0       1.0       0.0\n",
      "2 1987-09-30    0.0       0.0       0.0\n",
      "3 1987-12-31    0.0       0.0       0.0\n",
      "4 1988-03-31    0.0       0.0       0.0\n"
     ]
    }
   ],
   "source": [
    "##import the patent data into the file\n",
    "data = pd.read_csv('uspto.patent.appl-date.grant-date.txt',\n",
    "                   names = [\"ID\",\"Grant-date\",\"Appli-date\",\"CPC\"],sep='\\t', \n",
    "                   dtype = {\"CPC\":str},header = None,nrows=7155645)\n",
    "#remove the duplicated rows and now data with distinct patent ID\n",
    "data.drop_duplicates(['ID'], keep = 'first', inplace = True)\n",
    "\n",
    "##import inventor data into the file\n",
    "Inventor = pd.read_csv('patent_Inventor.txt',names = [\"ID\",\"Name\"],sep='\\t', header = 0)\n",
    "Inventors = Inventor.groupby(['ID']).count().reset_index()\n",
    "\n",
    "##import citation information into the file\n",
    "Citation = pd.read_csv('Citation.grouped.by.CPC.by.month.txt',sep='\\t', header = 0)\n",
    "Citation = Citation.rename(columns = {\"number_of_citations_received\":\"Citation\"})\n",
    "Citation['year'] = pd.DatetimeIndex(Citation['year_month_']).year\n",
    "Citation['month'] = pd.DatetimeIndex(Citation['year_month_']).month\n",
    "\n",
    "#merge the inventor feature into the patent data\n",
    "result = pd.merge(data, Inventors[['ID','Name']],\n",
    "                 on='ID', how='left')\n",
    "result = result.rename(columns={\"Name\":\"Inventor\"})\n"
   ]
  },
  {
   "cell_type": "code",
   "execution_count": 6,
   "metadata": {},
   "outputs": [
    {
     "data": {
      "text/plain": [
       "array(['C12N 15/70 (20130101)', 'C12Q 1/68 (20130101)',\n",
       "       'C12N 15/111 (20130101)', 'C12N 2310/11 (20130101)',\n",
       "       'A61K 48/00 (20130101)', 'C12N 2310/14 (20130101)',\n",
       "       'C12N 15/113 (20130101)', 'C12N 9/22 (20130101)',\n",
       "       'C12N 15/63 (20130101)', 'C12N 15/85 (20130101)'], dtype=object)"
      ]
     },
     "execution_count": 6,
     "metadata": {},
     "output_type": "execute_result"
    }
   ],
   "source": [
    "Cal = data[data[\"ID\"]==\"10000772\"]\n",
    "Mit = data[data[\"ID\"]==\"8697359\"]\n",
    "CL=list(set(Cal.iloc[0]['CPC'].split('+')+Mit.iloc[0]['CPC'].split('+')))\n",
    "# get the count of each CPC\n",
    "cnt = np.zeros(len(CL))\n",
    "for i in range(data.shape[0]):\n",
    "    cpc = data.iloc[i]['CPC']\n",
    "    if type(cpc) == float:\n",
    "        continue\n",
    "    for j in range(36):\n",
    "        if CL[j] in cpc:\n",
    "            cnt[j]+=1\n",
    "PCL = pd.DataFrame(data = {'CPC':CL,'counts':cnt})\n",
    "PL = PCL['CPC'][PCL['counts']>1000].values\n",
    "PL"
   ]
  },
  {
   "cell_type": "code",
   "execution_count": 44,
   "metadata": {},
   "outputs": [
    {
     "name": "stdout",
     "output_type": "stream",
     "text": [
      "        date  count  Inventor  Citation\n",
      "0 1987-01-31    0.0       0.0       2.0\n",
      "1 1987-01-31    0.0       0.0       1.0\n",
      "2 1987-02-28    3.0       9.0       1.0\n",
      "3 1987-03-31    7.0      27.0       1.0\n",
      "4 1987-03-31    7.0      27.0       1.0\n",
      "\n",
      "        date  count  Inventor  Citation\n",
      "0 1987-03-31   38.0     144.0      11.0\n",
      "1 1987-06-30   27.0      60.0      16.0\n",
      "2 1987-09-30    5.0       7.0       5.0\n",
      "3 1987-12-31   24.0      78.0      13.0\n",
      "4 1988-03-31   10.0      42.0       6.0\n"
     ]
    },
    {
     "name": "stderr",
     "output_type": "stream",
     "text": [
      "c:\\users\\delia\\appdata\\local\\programs\\python\\python37\\lib\\site-packages\\ipykernel_launcher.py:10: SettingWithCopyWarning: \n",
      "A value is trying to be set on a copy of a slice from a DataFrame.\n",
      "Try using .loc[row_indexer,col_indexer] = value instead\n",
      "\n",
      "See the caveats in the documentation: http://pandas.pydata.org/pandas-docs/stable/user_guide/indexing.html#returning-a-view-versus-a-copy\n",
      "  # Remove the CWD from sys.path while we load stuff.\n",
      "c:\\users\\delia\\appdata\\local\\programs\\python\\python37\\lib\\site-packages\\ipykernel_launcher.py:11: SettingWithCopyWarning: \n",
      "A value is trying to be set on a copy of a slice from a DataFrame.\n",
      "Try using .loc[row_indexer,col_indexer] = value instead\n",
      "\n",
      "See the caveats in the documentation: http://pandas.pydata.org/pandas-docs/stable/user_guide/indexing.html#returning-a-view-versus-a-copy\n",
      "  # This is added back by InteractiveShellApp.init_path()\n"
     ]
    }
   ],
   "source": [
    "# generate the input data for subclass data\n",
    "(M,Q) = Raw2Input(PL[0], result, Citation)\n",
    "print(Q.head())"
   ]
  },
  {
   "cell_type": "code",
   "execution_count": 46,
   "metadata": {},
   "outputs": [
    {
     "name": "stderr",
     "output_type": "stream",
     "text": [
      "c:\\users\\delia\\appdata\\local\\programs\\python\\python37\\lib\\site-packages\\pandas\\plotting\\_matplotlib\\converter.py:103: FutureWarning: Using an implicitly registered datetime converter for a matplotlib plotting method. The converter was registered by pandas on import. Future versions of pandas will require you to explicitly register matplotlib converters.\n",
      "\n",
      "To register the converters:\n",
      "\t>>> from pandas.plotting import register_matplotlib_converters\n",
      "\t>>> register_matplotlib_converters()\n",
      "  warnings.warn(msg, FutureWarning)\n"
     ]
    },
    {
     "data": {
      "text/plain": [
       "[<matplotlib.lines.Line2D at 0x2df97a007c8>]"
      ]
     },
     "execution_count": 46,
     "metadata": {},
     "output_type": "execute_result"
    },
    {
     "data": {
      "image/png": "[encoded data removed]",
      "text/plain": [
       "<Figure size 432x288 with 1 Axes>"
      ]
     },
     "metadata": {
      "needs_background": "light"
     },
     "output_type": "display_data"
    }
   ],
   "source": [
    "plt.plot(Q['date'][40:128],Q['count'][40:128])"
   ]
  },
  {
   "cell_type": "code",
   "execution_count": 7,
   "metadata": {},
   "outputs": [],
   "source": [
    "#using LSTM to model the data and get the prediction\n",
    "from LSTM import *\n",
    "n_neuron = 0\n",
    "time_step = 0\n",
    "LSTM_PA = run_lstm(Q, n_neuron, time_step)\n",
    "SSE = ((test[:,-1]-PA_inverse)**2).sum()\n",
    "SSR = ((test[:,-1]-np.mean(train[:,-1]))**2).sum()\n",
    "OSR2 = 1-SSE/SSR\n",
    "RMSE = math.sqrt(np.mean((test[:,-1]-PA_inverse)**2))\n",
    "MAE = np.mean(abs((test[:,-1]-PA_inverse)))\n",
    "print(\"OSR2: \", OSR2)\n",
    "print(\"MAE: \", MAE)\n",
    "print(\"MAE_monthly\", MAE/3)\n",
    "print(\"RMSE: \", RMSE)\n",
    "print(\"RMSE_monthly\", RMSE/3)"
   ]
  },
  {
   "cell_type": "code",
   "execution_count": null,
   "metadata": {},
   "outputs": [],
   "source": [
    "#using arima to model the data and plot the result\n",
    "from ARIMA import *\n",
    "automodel = arimamodel(Q['count'])\n",
    "automodel.summary()\n",
    "plotarima(10, Q['count'], automodel)\n",
    "y_pred = automodel.predict(n_periods=10, return_conf_int=False)\n",
    "SSE = ((test[:,-1] - y_pred)**2).sum()\n",
    "SSR = ((test[:,-1] - np.mean(ts.values))**2).sum()\n",
    "OSR2 = 1-SSE/SSR\n",
    "RMSE = math.sqrt(np.mean((test[:,-1] - y_pred)**2))\n",
    "MAE = np.mean(abs((test[:,-1] - y_pred)))\n",
    "print(\"OSR2: \", OSR2)\n",
    "print(\"MAE: \", MAE)\n",
    "print(\"RMSE: \", RMSE)"
   ]
  },
  {
   "cell_type": "code",
   "execution_count": null,
   "metadata": {},
   "outputs": [],
   "source": [
    "#using VAR to model the data and get the prediction\n",
    "from VAR import *\n",
    "var_pred = fitVar(Q)\n",
    "SSE = ((test[:,-1] - var_pred)**2).sum()\n",
    "SSR = ((test[:,-1] - np.mean(ts.values))**2).sum()\n",
    "OSR2 = 1-SSE/SSR\n",
    "RMSE = math.sqrt(np.mean((test[:,-1] - var_pred)**2))\n",
    "MAE = np.mean(abs((test[:,-1] - var_pred)))\n",
    "print(\"OSR2: \", OSR2)\n",
    "print(\"MAE: \", MAE)\n",
    "print(\"RMSE: \", RMSE)"
   ]
  }
 ],
 "metadata": {
  "kernelspec": {
   "display_name": "Python 3",
   "language": "python",
   "name": "python3"
  },
  "language_info": {
   "codemirror_mode": {
    "name": "ipython",
    "version": 3
   },
   "file_extension": ".py",
   "mimetype": "text/x-python",
   "name": "python",
   "nbconvert_exporter": "python",
   "pygments_lexer": "ipython3",
   "version": "3.7.6"
  }
 },
 "nbformat": 4,
 "nbformat_minor": 2
}
